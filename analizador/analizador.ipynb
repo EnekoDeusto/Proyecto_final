{
 "cells": [
  {
   "cell_type": "code",
   "execution_count": null,
   "id": "d277188c",
   "metadata": {},
   "outputs": [],
   "source": [
    "import pandas as pd \n",
    "import matplotlib.pyplot as plt\n",
    "import seaborn as sns\n",
    "\n",
    "df_datos = pd.read_csv('../capturador/data/global_air_pollution_data.csv')\n",
    "\n",
    "df_datos.head(5)"
   ]
  },
  {
   "cell_type": "code",
   "execution_count": null,
   "id": "fdb32ab4",
   "metadata": {},
   "outputs": [],
   "source": [
    "df_datos.info()"
   ]
  },
  {
   "cell_type": "code",
   "execution_count": null,
   "id": "4379d8ca",
   "metadata": {},
   "outputs": [],
   "source": [
    "df_datos.nunique()"
   ]
  },
  {
   "cell_type": "code",
   "execution_count": null,
   "id": "14f3dc98",
   "metadata": {},
   "outputs": [],
   "source": [
    "print(df_datos.isnull().sum())"
   ]
  },
  {
   "cell_type": "code",
   "execution_count": null,
   "id": "977714cd",
   "metadata": {},
   "outputs": [],
   "source": [
    "print(df_datos.duplicated().sum())"
   ]
  },
  {
   "cell_type": "code",
   "execution_count": null,
   "id": "349c795b",
   "metadata": {},
   "outputs": [],
   "source": [
    "df_datos.plot(kind='box', subplots=True, layout=(6,2), sharex=False,sharey=False, figsize=(15,30))\n",
    "plt.show()"
   ]
  },
  {
   "cell_type": "code",
   "execution_count": null,
   "id": "ac9ad29f",
   "metadata": {},
   "outputs": [],
   "source": [
    "columnas_object = df_datos.select_dtypes(include='object')\n",
    "for columna in columnas_object:\n",
    "    sns.countplot(x=columna, data=df_datos, palette=None)\n",
    "    plt.show()"
   ]
  },
  {
   "cell_type": "markdown",
   "id": "bd1a1499",
   "metadata": {},
   "source": [
    "Observaciones :\n",
    "\n",
    "- \n",
    "- \n",
    "- \n"
   ]
  }
 ],
 "metadata": {
  "kernelspec": {
   "display_name": "Python 3",
   "language": "python",
   "name": "python3"
  },
  "language_info": {
   "name": "python",
   "version": "3.12.3"
  }
 },
 "nbformat": 4,
 "nbformat_minor": 5
}
